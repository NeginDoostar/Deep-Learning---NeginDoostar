{
  "cells": [
    {
      "cell_type": "code",
      "execution_count": 8,
      "metadata": {
        "id": "GlgZdwZNBN8Y"
      },
      "outputs": [],
      "source": [
        "#libraries\n",
        "import numpy as np\n",
        "from pathlib import Path\n",
        "from keras.preprocessing import image\n",
        "from keras.applications import vgg16\n",
        "from keras.models import Sequential\n",
        "from keras.layers import Dense, Dropout, Flatten\n",
        "from matplotlib import pyplot as plt"
      ]
    },
    {
      "cell_type": "code",
      "execution_count": 2,
      "metadata": {
        "colab": {
          "base_uri": "https://localhost:8080/"
        },
        "id": "YsrbVyBqClib",
        "outputId": "04c0fb4e-8c6d-4cd5-be1b-dce5ef440a79"
      },
      "outputs": [
        {
          "output_type": "stream",
          "name": "stdout",
          "text": [
            "Reading package lists... Done\n",
            "Building dependency tree... Done\n",
            "Reading state information... Done\n",
            "unzip is already the newest version (6.0-26ubuntu3.2).\n",
            "0 upgraded, 0 newly installed, 0 to remove and 45 not upgraded.\n",
            "Archive:  training_data.zip\n",
            "   creating: training_data/\n",
            "   creating: training_data/dogs/\n",
            "  inflating: training_data/dogs/00001.png  \n",
            "  inflating: training_data/dogs/00005.png  \n",
            "  inflating: training_data/dogs/00087.png  \n",
            "  inflating: training_data/dogs/00120.png  \n",
            "  inflating: training_data/dogs/00132.png  \n",
            "  inflating: training_data/dogs/00148.png  \n",
            "  inflating: training_data/dogs/00150.png  \n",
            "  inflating: training_data/dogs/00153.png  \n",
            "  inflating: training_data/dogs/00154.png  \n",
            "  inflating: training_data/dogs/00155.png  \n",
            "  inflating: training_data/dogs/00267.png  \n",
            "  inflating: training_data/dogs/00287.png  \n",
            "  inflating: training_data/dogs/00313.png  \n",
            "  inflating: training_data/dogs/00316.png  \n",
            "  inflating: training_data/dogs/00350.png  \n",
            "  inflating: training_data/dogs/00355.png  \n",
            "  inflating: training_data/dogs/00362.png  \n",
            "  inflating: training_data/dogs/00382.png  \n",
            "  inflating: training_data/dogs/00393.png  \n",
            "  inflating: training_data/dogs/00400.png  \n",
            "  inflating: training_data/dogs/00401.png  \n",
            "  inflating: training_data/dogs/00405.png  \n",
            "  inflating: training_data/dogs/00410.png  \n",
            "  inflating: training_data/dogs/00446.png  \n",
            "  inflating: training_data/dogs/00448.png  \n",
            "  inflating: training_data/dogs/00450.png  \n",
            "   creating: training_data/not_dogs/\n",
            "  inflating: training_data/not_dogs/00381.png  \n",
            "  inflating: training_data/not_dogs/00383.png  \n",
            "  inflating: training_data/not_dogs/00384.png  \n",
            "  inflating: training_data/not_dogs/00385.png  \n",
            "  inflating: training_data/not_dogs/00386.png  \n",
            "  inflating: training_data/not_dogs/00387.png  \n",
            "  inflating: training_data/not_dogs/00390.png  \n",
            "  inflating: training_data/not_dogs/00395.png  \n",
            "  inflating: training_data/not_dogs/00397.png  \n",
            "  inflating: training_data/not_dogs/00399.png  \n",
            "  inflating: training_data/not_dogs/00413.png  \n",
            "  inflating: training_data/not_dogs/00414.png  \n",
            "  inflating: training_data/not_dogs/00415.png  \n",
            "  inflating: training_data/not_dogs/00417.png  \n",
            "  inflating: training_data/not_dogs/00418.png  \n",
            "  inflating: training_data/not_dogs/00422.png  \n",
            "  inflating: training_data/not_dogs/00426.png  \n",
            "  inflating: training_data/not_dogs/00427.png  \n",
            "  inflating: training_data/not_dogs/00428.png  \n",
            "  inflating: training_data/not_dogs/00434.png  \n",
            "  inflating: training_data/not_dogs/00438.png  \n",
            "  inflating: training_data/not_dogs/00439.png  \n",
            "  inflating: training_data/not_dogs/00441.png  \n",
            "  inflating: training_data/not_dogs/00449.png  \n",
            "  inflating: training_data/not_dogs/00454.png  \n",
            "  inflating: training_data/not_dogs/00459.png  \n",
            "  inflating: training_data/not_dogs/00470.png  \n",
            "  inflating: training_data/not_dogs/00471.png  \n",
            "  inflating: training_data/not_dogs/00474.png  \n",
            "  inflating: training_data/not_dogs/00477.png  \n",
            "  inflating: training_data/not_dogs/00479.png  \n",
            "  inflating: training_data/not_dogs/00480.png  \n"
          ]
        }
      ],
      "source": [
        "#data preparation\n",
        "!apt install unzip\n",
        "!unzip training_data.zip\n",
        "\n",
        "dog_path = Path(\"training_data\") / \"dogs\"\n",
        "not_dog_path = Path(\"training_data\") / \"not_dogs\"\n",
        "x_train = []\n",
        "y_train = []\n",
        "\n",
        "for img in dog_path.glob('*.png'):\n",
        "  x_train.append(image.img_to_array(image.load_img(img)))\n",
        "  y_train.append(1)\n",
        "\n",
        "for img in not_dog_path.glob('*.png'):\n",
        "  x_train.append(image.img_to_array(image.load_img(img)))\n",
        "  y_train.append(0)\n",
        "\n",
        "x_train = np.array(x_train)\n",
        "y_train = np.array(y_train)"
      ]
    },
    {
      "cell_type": "code",
      "execution_count": 3,
      "metadata": {
        "colab": {
          "base_uri": "https://localhost:8080/"
        },
        "id": "XhWbXanmMxYO",
        "outputId": "1ae84aac-735f-48ee-b69c-43a8494b440f"
      },
      "outputs": [
        {
          "output_type": "stream",
          "name": "stdout",
          "text": [
            "Downloading data from https://storage.googleapis.com/tensorflow/keras-applications/vgg16/vgg16_weights_tf_dim_ordering_tf_kernels_notop.h5\n",
            "58889256/58889256 [==============================] - 0s 0us/step\n",
            "2/2 [==============================] - 4s 1s/step\n"
          ]
        }
      ],
      "source": [
        "#pretrain with vgg16\n",
        "#1: normalize data\n",
        "#2: load a pretrained nerual network for feature extraction\n",
        "x_train = vgg16.preprocess_input(x_train)\n",
        "features_x = vgg16.VGG16(weights='imagenet', include_top=False, input_shape=(64, 64, 3)).predict(x_train)"
      ]
    },
    {
      "cell_type": "code",
      "execution_count": 4,
      "metadata": {
        "id": "JF8kGSeoaANF"
      },
      "outputs": [],
      "source": [
        "#create model\n",
        "model = Sequential()\n",
        "model.add(Flatten(input_shape = features_x.shape[1:]))\n",
        "model.add(Dense(256, activation = 'relu'))\n",
        "model.add(Dropout(0.25))\n",
        "model.add(Dense(1, activation = 'sigmoid'))"
      ]
    },
    {
      "cell_type": "code",
      "execution_count": 7,
      "metadata": {
        "colab": {
          "base_uri": "https://localhost:8080/"
        },
        "id": "4UqH2ojfbQUn",
        "outputId": "f6c2862a-39de-4c42-d8e9-a12daa7182d4"
      },
      "outputs": [
        {
          "output_type": "stream",
          "name": "stdout",
          "text": [
            "Epoch 1/5\n",
            "2/2 [==============================] - 1s 14ms/step - loss: 1.3692e-20 - accuracy: 1.0000\n",
            "Epoch 2/5\n",
            "2/2 [==============================] - 0s 13ms/step - loss: 3.8016e-21 - accuracy: 1.0000\n",
            "Epoch 3/5\n",
            "2/2 [==============================] - 0s 13ms/step - loss: 2.4511e-21 - accuracy: 1.0000\n",
            "Epoch 4/5\n",
            "2/2 [==============================] - 0s 13ms/step - loss: 2.0470e-22 - accuracy: 1.0000\n",
            "Epoch 5/5\n",
            "2/2 [==============================] - 0s 19ms/step - loss: 1.8865e-23 - accuracy: 1.0000\n"
          ]
        }
      ],
      "source": [
        "#compile and train\n",
        "model.compile(loss = 'binary_crossentropy', optimizer = 'adam', metrics = ['accuracy'])\n",
        "history = model.fit(features_x, y_train, batch_size = 32, epochs = 5, shuffle = True)"
      ]
    },
    {
      "cell_type": "code",
      "source": [
        "#plot result of train\n",
        "plt.plot(history.history['accuracy'])\n",
        "plt.plot(history.history['loss'])\n",
        "plt.ylabel('accuracy and loss')\n",
        "plt.xlabel('epoch')\n",
        "plt.legend(['accuracy', 'loss'], loc ='right')\n",
        "plt.show()"
      ],
      "metadata": {
        "colab": {
          "base_uri": "https://localhost:8080/",
          "height": 449
        },
        "id": "bXi4xD1hUjob",
        "outputId": "e3fd56aa-92ca-4526-df52-ffe3bcb85312"
      },
      "execution_count": 9,
      "outputs": [
        {
          "output_type": "display_data",
          "data": {
            "text/plain": [
              "<Figure size 640x480 with 1 Axes>"
            ],
            "image/png": "[encoded data removed]"
          },
          "metadata": {}
        }
      ]
    },
    {
      "cell_type": "code",
      "source": [
        "#predict a new image of dog\n",
        "dog_img = np.expand_dims(image.img_to_array(image.load_img('dog.png', target_size = (64, 64))), axis = 0)\n",
        "dog_img = vgg16.preprocess_input(dog_img)\n",
        "\n",
        "dog_features = vgg16.VGG16(weights = 'imagenet', include_top = False, input_shape = (64, 64, 3)).predict(dog_img)\n",
        "img_type = model.predict(dog_features)\n",
        "\n",
        "#show result of prediction\n",
        "print('\\n')\n",
        "plt.imshow(image.load_img('dog.png', target_size = (64, 64)))\n",
        "plt.axis('off')\n",
        "plt.show()\n",
        "\n",
        "print('The pridiction is a dog with {}%'.format(img_type[0][0]*100))"
      ],
      "metadata": {
        "colab": {
          "base_uri": "https://localhost:8080/",
          "height": 493
        },
        "id": "e8uUdW3EVm6d",
        "outputId": "b4abfb11-42f3-4c8f-d6eb-8218a566864c"
      },
      "execution_count": 16,
      "outputs": [
        {
          "output_type": "stream",
          "name": "stdout",
          "text": [
            "1/1 [==============================] - 0s 204ms/step\n",
            "1/1 [==============================] - 0s 22ms/step\n",
            "\n",
            "\n"
          ]
        },
        {
          "output_type": "display_data",
          "data": {
            "text/plain": [
              "<Figure size 640x480 with 1 Axes>"
            ],
            "image/png": "[encoded data removed]"
          },
          "metadata": {}
        },
        {
          "output_type": "stream",
          "name": "stdout",
          "text": [
            "the pridiction is a dog with 100.0%\n"
          ]
        }
      ]
    }
  ],
  "metadata": {
    "colab": {
      "provenance": []
    },
    "kernelspec": {
      "display_name": "Python 3",
      "name": "python3"
    },
    "language_info": {
      "name": "python"
    }
  },
  "nbformat": 4,
  "nbformat_minor": 0
}