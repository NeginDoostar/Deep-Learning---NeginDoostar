{
  "nbformat": 4,
  "nbformat_minor": 0,
  "metadata": {
    "colab": {
      "provenance": []
    },
    "kernelspec": {
      "name": "python3",
      "display_name": "Python 3"
    },
    "language_info": {
      "name": "python"
    }
  },
  "cells": [
    {
      "cell_type": "code",
      "execution_count": 7,
      "metadata": {
        "id": "xobfU_IJJXnj"
      },
      "outputs": [],
      "source": [
        "#libraries\n",
        "from keras.models import model_from_json\n",
        "from pathlib import Path\n",
        "from keras.preprocessing import image\n",
        "import numpy as np"
      ]
    },
    {
      "cell_type": "code",
      "source": [
        "#labels of cifar10 classes\n",
        "labels = [\"Plane\", \"Car\", \"Bird\", \"Cat\", \"Deer\", \"Dog\", \"Frog\", \"Horse\", \"Boat\", \"Truck\"]\n",
        "\n",
        "#load model\n",
        "f = Path(\"structure.json\")\n",
        "model_structure = f.read_text()\n",
        "model = model_from_json(model_structure)\n",
        "model.load_weights(\"weights.h5\")\n",
        "\n",
        "#load an image to test and convert it to a numpy array. size should compatible with 32*32 pixel for this model\n",
        "img = image.load_img(\"cat.png\", target_size = (32, 32))\n",
        "image_to_test = image.img_to_array(img)"
      ],
      "metadata": {
        "id": "PjvBR3dDLfvy"
      },
      "execution_count": 8,
      "outputs": []
    },
    {
      "cell_type": "code",
      "source": [
        "#prediction\n",
        "result = model.predict(np.expand_dims(image_to_test, axis = 0))\n",
        "most_likely_class_index = int(np.argmax(result[0]))\n",
        "print(\"image is a {}\".format(labels[most_likely_class_index]))"
      ],
      "metadata": {
        "colab": {
          "base_uri": "https://localhost:8080/"
        },
        "id": "_w8Rn6RKMzzp",
        "outputId": "0f521dd1-0be7-4c25-ea3a-e5929bc95658"
      },
      "execution_count": 11,
      "outputs": [
        {
          "output_type": "stream",
          "name": "stdout",
          "text": [
            "1/1 [==============================] - 0s 22ms/step\n",
            "image is a Cat\n"
          ]
        }
      ]
    }
  ]
}