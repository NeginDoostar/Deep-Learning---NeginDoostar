{
  "nbformat": 4,
  "nbformat_minor": 0,
  "metadata": {
    "colab": {
      "provenance": [],
      "gpuType": "T4"
    },
    "kernelspec": {
      "name": "python3",
      "display_name": "Python 3"
    },
    "language_info": {
      "name": "python"
    },
    "accelerator": "GPU"
  },
  "cells": [
    {
      "cell_type": "code",
      "execution_count": 13,
      "metadata": {
        "id": "TMafHnJh1gzG"
      },
      "outputs": [],
      "source": [
        "#libraries\n",
        "import keras\n",
        "from keras.datasets import cifar10\n",
        "from keras.models import Sequential\n",
        "from keras.layers import Flatten, Dropout, Dense, Conv2D, MaxPooling2D\n",
        "from pathlib import Path\n",
        "from matplotlib import pyplot as plt"
      ]
    },
    {
      "cell_type": "code",
      "source": [
        "#load data\n",
        "(x_train, y_train), (x_test, y_test) = cifar10.load_data()\n",
        "\n",
        "print(\"shape:\\nx_train and y_train\")\n",
        "print(x_train.shape)\n",
        "print(y_train.shape)\n",
        "\n",
        "print(\"\\nx_test and y_test\")\n",
        "print(x_test.shape)\n",
        "print(y_test.shape)"
      ],
      "metadata": {
        "colab": {
          "base_uri": "https://localhost:8080/"
        },
        "id": "Kn54ZYvV5ny0",
        "outputId": "c1695069-abaf-44a1-db7a-289d06839fcf"
      },
      "execution_count": 14,
      "outputs": [
        {
          "output_type": "stream",
          "name": "stdout",
          "text": [
            "shape:\n",
            "x_train and y_train\n",
            "(50000, 32, 32, 3)\n",
            "(50000, 1)\n",
            "\n",
            "x_test and y_test\n",
            "(10000, 32, 32, 3)\n",
            "(10000, 1)\n"
          ]
        }
      ]
    },
    {
      "cell_type": "code",
      "source": [
        "#normalize input\n",
        "print(x_train[0][0][0])\n",
        "\n",
        "x_train = x_train.astype('float32')\n",
        "x_train /= 255\n",
        "x_test = x_test.astype('float32')\n",
        "x_test /=255\n",
        "\n",
        "#test\n",
        "print(x_train[0][0][0])"
      ],
      "metadata": {
        "colab": {
          "base_uri": "https://localhost:8080/"
        },
        "id": "oWPesY8C7yJZ",
        "outputId": "728b1ecc-4138-4cfa-c4fa-aa344f11a4a4"
      },
      "execution_count": 15,
      "outputs": [
        {
          "output_type": "stream",
          "name": "stdout",
          "text": [
            "[59 62 63]\n",
            "[0.23137255 0.24313726 0.24705882]\n"
          ]
        }
      ]
    },
    {
      "cell_type": "code",
      "source": [
        "#convert output to binary class\n",
        "print(y_train[0])\n",
        "\n",
        "y_train = keras.utils.to_categorical(y_train, 10)\n",
        "y_test = keras.utils.to_categorical(y_test, 10)\n",
        "\n",
        "#test\n",
        "print(y_train[0])"
      ],
      "metadata": {
        "colab": {
          "base_uri": "https://localhost:8080/"
        },
        "id": "WpsEgHSa_3l9",
        "outputId": "724b196d-c0d1-4499-b8ac-0f3fea40939d"
      },
      "execution_count": 16,
      "outputs": [
        {
          "output_type": "stream",
          "name": "stdout",
          "text": [
            "[6]\n",
            "[0. 0. 0. 0. 0. 0. 1. 0. 0. 0.]\n"
          ]
        }
      ]
    },
    {
      "cell_type": "code",
      "source": [
        "#create model\n",
        "model = Sequential()\n",
        "\n",
        "model.add(Conv2D(32, (3, 3), padding = 'same', input_shape = (32, 32, 3), activation = 'relu'))\n",
        "model.add(Conv2D(32, (3, 3), activation = 'relu'))\n",
        "model.add(MaxPooling2D(pool_size = (2, 2)))\n",
        "model.add(Dropout(0.25))\n",
        "\n",
        "model.add(Conv2D(64, (3, 3), padding = 'same', activation = 'relu'))\n",
        "model.add(Conv2D(64, (3, 3), activation = 'relu'))\n",
        "model.add(MaxPooling2D(pool_size = (2, 2)))\n",
        "model.add(Dropout(0.25))\n",
        "\n",
        "model.add(Flatten())\n",
        "model.add(Dense(512, activation = 'relu'))\n",
        "model.add(Dropout(0.5))\n",
        "model.add(Dense(10, activation = 'softmax'))"
      ],
      "metadata": {
        "id": "vq1UnpHzCnTo"
      },
      "execution_count": 17,
      "outputs": []
    },
    {
      "cell_type": "code",
      "source": [
        "#compile and train\n",
        "model.compile(loss = 'categorical_crossentropy', optimizer = 'adam', metrics = ['accuracy'])\n",
        "history = model.fit(x_train, y_train, batch_size = 64, epochs = 50, validation_data = (x_test, y_test), shuffle = True)"
      ],
      "metadata": {
        "colab": {
          "base_uri": "https://localhost:8080/"
        },
        "id": "fTyn3PEtHm1Q",
        "outputId": "c1b2ceeb-437c-4222-cc99-6b5408ef5039"
      },
      "execution_count": 18,
      "outputs": [
        {
          "output_type": "stream",
          "name": "stdout",
          "text": [
            "Epoch 1/50\n",
            "782/782 [==============================] - 9s 9ms/step - loss: 1.5476 - accuracy: 0.4340 - val_loss: 1.2104 - val_accuracy: 0.5702\n",
            "Epoch 2/50\n",
            "782/782 [==============================] - 7s 9ms/step - loss: 1.1550 - accuracy: 0.5901 - val_loss: 1.0028 - val_accuracy: 0.6462\n",
            "Epoch 3/50\n",
            "782/782 [==============================] - 6s 8ms/step - loss: 0.9782 - accuracy: 0.6565 - val_loss: 0.8918 - val_accuracy: 0.6902\n",
            "Epoch 4/50\n",
            "782/782 [==============================] - 7s 8ms/step - loss: 0.8643 - accuracy: 0.6959 - val_loss: 0.8017 - val_accuracy: 0.7219\n",
            "Epoch 5/50\n",
            "782/782 [==============================] - 6s 8ms/step - loss: 0.7985 - accuracy: 0.7195 - val_loss: 0.7330 - val_accuracy: 0.7507\n",
            "Epoch 6/50\n",
            "782/782 [==============================] - 7s 8ms/step - loss: 0.7434 - accuracy: 0.7380 - val_loss: 0.6986 - val_accuracy: 0.7586\n",
            "Epoch 7/50\n",
            "782/782 [==============================] - 6s 8ms/step - loss: 0.6941 - accuracy: 0.7555 - val_loss: 0.6688 - val_accuracy: 0.7713\n",
            "Epoch 8/50\n",
            "782/782 [==============================] - 6s 8ms/step - loss: 0.6567 - accuracy: 0.7684 - val_loss: 0.6657 - val_accuracy: 0.7714\n",
            "Epoch 9/50\n",
            "782/782 [==============================] - 6s 8ms/step - loss: 0.6238 - accuracy: 0.7805 - val_loss: 0.6367 - val_accuracy: 0.7845\n",
            "Epoch 10/50\n",
            "782/782 [==============================] - 6s 8ms/step - loss: 0.6090 - accuracy: 0.7852 - val_loss: 0.6668 - val_accuracy: 0.7699\n",
            "Epoch 11/50\n",
            "782/782 [==============================] - 6s 8ms/step - loss: 0.5824 - accuracy: 0.7927 - val_loss: 0.6856 - val_accuracy: 0.7719\n",
            "Epoch 12/50\n",
            "782/782 [==============================] - 6s 8ms/step - loss: 0.5526 - accuracy: 0.8062 - val_loss: 0.7384 - val_accuracy: 0.7588\n",
            "Epoch 13/50\n",
            "782/782 [==============================] - 6s 8ms/step - loss: 0.5377 - accuracy: 0.8094 - val_loss: 0.6371 - val_accuracy: 0.7894\n",
            "Epoch 14/50\n",
            "782/782 [==============================] - 6s 8ms/step - loss: 0.5177 - accuracy: 0.8163 - val_loss: 0.6232 - val_accuracy: 0.7949\n",
            "Epoch 15/50\n",
            "782/782 [==============================] - 6s 8ms/step - loss: 0.4964 - accuracy: 0.8246 - val_loss: 0.6226 - val_accuracy: 0.7927\n",
            "Epoch 16/50\n",
            "782/782 [==============================] - 6s 8ms/step - loss: 0.4847 - accuracy: 0.8264 - val_loss: 0.6145 - val_accuracy: 0.7972\n",
            "Epoch 17/50\n",
            "782/782 [==============================] - 7s 8ms/step - loss: 0.4745 - accuracy: 0.8325 - val_loss: 0.6183 - val_accuracy: 0.7965\n",
            "Epoch 18/50\n",
            "782/782 [==============================] - 6s 8ms/step - loss: 0.4579 - accuracy: 0.8367 - val_loss: 0.6160 - val_accuracy: 0.7949\n",
            "Epoch 19/50\n",
            "782/782 [==============================] - 7s 8ms/step - loss: 0.4430 - accuracy: 0.8435 - val_loss: 0.6194 - val_accuracy: 0.7969\n",
            "Epoch 20/50\n",
            "782/782 [==============================] - 7s 8ms/step - loss: 0.4318 - accuracy: 0.8455 - val_loss: 0.6429 - val_accuracy: 0.7920\n",
            "Epoch 21/50\n",
            "782/782 [==============================] - 7s 8ms/step - loss: 0.4248 - accuracy: 0.8493 - val_loss: 0.6592 - val_accuracy: 0.7942\n",
            "Epoch 22/50\n",
            "782/782 [==============================] - 6s 8ms/step - loss: 0.4172 - accuracy: 0.8523 - val_loss: 0.6215 - val_accuracy: 0.7993\n",
            "Epoch 23/50\n",
            "782/782 [==============================] - 6s 8ms/step - loss: 0.4028 - accuracy: 0.8558 - val_loss: 0.6302 - val_accuracy: 0.7990\n",
            "Epoch 24/50\n",
            "782/782 [==============================] - 6s 8ms/step - loss: 0.4009 - accuracy: 0.8577 - val_loss: 0.6217 - val_accuracy: 0.7992\n",
            "Epoch 25/50\n",
            "782/782 [==============================] - 6s 8ms/step - loss: 0.3882 - accuracy: 0.8615 - val_loss: 0.7034 - val_accuracy: 0.7893\n",
            "Epoch 26/50\n",
            "782/782 [==============================] - 6s 8ms/step - loss: 0.3839 - accuracy: 0.8647 - val_loss: 0.6764 - val_accuracy: 0.7879\n",
            "Epoch 27/50\n",
            "782/782 [==============================] - 6s 8ms/step - loss: 0.3811 - accuracy: 0.8655 - val_loss: 0.6362 - val_accuracy: 0.7973\n",
            "Epoch 28/50\n",
            "782/782 [==============================] - 6s 8ms/step - loss: 0.3717 - accuracy: 0.8673 - val_loss: 0.6449 - val_accuracy: 0.7998\n",
            "Epoch 29/50\n",
            "782/782 [==============================] - 6s 8ms/step - loss: 0.3623 - accuracy: 0.8704 - val_loss: 0.6544 - val_accuracy: 0.7928\n",
            "Epoch 30/50\n",
            "782/782 [==============================] - 6s 8ms/step - loss: 0.3659 - accuracy: 0.8690 - val_loss: 0.6496 - val_accuracy: 0.7968\n",
            "Epoch 31/50\n",
            "782/782 [==============================] - 6s 8ms/step - loss: 0.3544 - accuracy: 0.8745 - val_loss: 0.6474 - val_accuracy: 0.7997\n",
            "Epoch 32/50\n",
            "782/782 [==============================] - 6s 8ms/step - loss: 0.3479 - accuracy: 0.8779 - val_loss: 0.6489 - val_accuracy: 0.7982\n",
            "Epoch 33/50\n",
            "782/782 [==============================] - 6s 8ms/step - loss: 0.3482 - accuracy: 0.8773 - val_loss: 0.6628 - val_accuracy: 0.7992\n",
            "Epoch 34/50\n",
            "782/782 [==============================] - 7s 8ms/step - loss: 0.3462 - accuracy: 0.8772 - val_loss: 0.6556 - val_accuracy: 0.7994\n",
            "Epoch 35/50\n",
            "782/782 [==============================] - 6s 8ms/step - loss: 0.3363 - accuracy: 0.8822 - val_loss: 0.6713 - val_accuracy: 0.8003\n",
            "Epoch 36/50\n",
            "782/782 [==============================] - 7s 9ms/step - loss: 0.3384 - accuracy: 0.8795 - val_loss: 0.6442 - val_accuracy: 0.8014\n",
            "Epoch 37/50\n",
            "782/782 [==============================] - 6s 8ms/step - loss: 0.3358 - accuracy: 0.8821 - val_loss: 0.6503 - val_accuracy: 0.8043\n",
            "Epoch 38/50\n",
            "782/782 [==============================] - 7s 8ms/step - loss: 0.3257 - accuracy: 0.8839 - val_loss: 0.6463 - val_accuracy: 0.8045\n",
            "Epoch 39/50\n",
            "782/782 [==============================] - 6s 8ms/step - loss: 0.3299 - accuracy: 0.8854 - val_loss: 0.6543 - val_accuracy: 0.8021\n",
            "Epoch 40/50\n",
            "782/782 [==============================] - 7s 8ms/step - loss: 0.3241 - accuracy: 0.8864 - val_loss: 0.6665 - val_accuracy: 0.8006\n",
            "Epoch 41/50\n",
            "782/782 [==============================] - 6s 8ms/step - loss: 0.3158 - accuracy: 0.8891 - val_loss: 0.7040 - val_accuracy: 0.7937\n",
            "Epoch 42/50\n",
            "782/782 [==============================] - 6s 8ms/step - loss: 0.3193 - accuracy: 0.8873 - val_loss: 0.6558 - val_accuracy: 0.8051\n",
            "Epoch 43/50\n",
            "782/782 [==============================] - 6s 8ms/step - loss: 0.3140 - accuracy: 0.8892 - val_loss: 0.6723 - val_accuracy: 0.8007\n",
            "Epoch 44/50\n",
            "782/782 [==============================] - 6s 8ms/step - loss: 0.3121 - accuracy: 0.8904 - val_loss: 0.6767 - val_accuracy: 0.7994\n",
            "Epoch 45/50\n",
            "782/782 [==============================] - 6s 8ms/step - loss: 0.3092 - accuracy: 0.8918 - val_loss: 0.6724 - val_accuracy: 0.8003\n",
            "Epoch 46/50\n",
            "782/782 [==============================] - 6s 8ms/step - loss: 0.3111 - accuracy: 0.8909 - val_loss: 0.6780 - val_accuracy: 0.7992\n",
            "Epoch 47/50\n",
            "782/782 [==============================] - 6s 8ms/step - loss: 0.3030 - accuracy: 0.8917 - val_loss: 0.6908 - val_accuracy: 0.7967\n",
            "Epoch 48/50\n",
            "782/782 [==============================] - 6s 8ms/step - loss: 0.2997 - accuracy: 0.8953 - val_loss: 0.6740 - val_accuracy: 0.7985\n",
            "Epoch 49/50\n",
            "782/782 [==============================] - 6s 8ms/step - loss: 0.2977 - accuracy: 0.8954 - val_loss: 0.6656 - val_accuracy: 0.7975\n",
            "Epoch 50/50\n",
            "782/782 [==============================] - 7s 8ms/step - loss: 0.2958 - accuracy: 0.8959 - val_loss: 0.6750 - val_accuracy: 0.7974\n"
          ]
        }
      ]
    },
    {
      "cell_type": "code",
      "source": [
        "#plot accuracy and loss\n",
        "plt.plot(history.history['accuracy'])\n",
        "plt.plot(history.history['val_accuracy'])\n",
        "plt.plot(history.history['loss'])\n",
        "plt.plot(history.history['val_loss'])\n",
        "plt.title('accuracy and loss')\n",
        "plt.ylabel('accuracy and loss')\n",
        "plt.xlabel('epoch')\n",
        "plt.legend(['train - accuracy', 'validation - accuray', 'loss', 'validation - loss'], loc='upper right')\n",
        "plt.show()"
      ],
      "metadata": {
        "colab": {
          "base_uri": "https://localhost:8080/",
          "height": 472
        },
        "id": "oPLyK4eJPSZA",
        "outputId": "6055ef80-50b8-4165-943a-8abcea69052b"
      },
      "execution_count": 21,
      "outputs": [
        {
          "output_type": "display_data",
          "data": {
            "text/plain": [
              "<Figure size 640x480 with 1 Axes>"
            ],
            "image/png": "[encoded data removed]"
          },
          "metadata": {}
        }
      ]
    },
    {
      "cell_type": "code",
      "source": [
        "#save model\n",
        "structure = model.to_json()\n",
        "File = Path('structure.json')\n",
        "File.write_text(structure)\n",
        "\n",
        "#save weights\n",
        "model.save_weights('weights.h5')"
      ],
      "metadata": {
        "id": "01wxvN2TGadm"
      },
      "execution_count": 22,
      "outputs": []
    }
  ]
}
